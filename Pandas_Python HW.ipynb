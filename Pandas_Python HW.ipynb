{
  "nbformat": 4,
  "nbformat_minor": 0,
  "metadata": {
    "colab": {
      "name": "Untitled8.ipynb",
      "provenance": [],
      "collapsed_sections": []
    },
    "kernelspec": {
      "name": "python3",
      "display_name": "Python 3"
    },
    "language_info": {
      "name": "python"
    }
  },
  "cells": [
    {
      "cell_type": "code",
      "metadata": {
        "id": "EcLWJJAbFyBZ"
      },
      "source": [
        "import numpy as np\n",
        "import pandas as pd"
      ],
      "execution_count": 19,
      "outputs": []
    },
    {
      "cell_type": "code",
      "metadata": {
        "id": "RmeM3xCoF9xd"
      },
      "source": [
        "data=pd.DataFrame(np.arange(35,60).reshape(5,5), index=['Swamini','Kushal','Saurabh','Swapnil','Dinesh'],columns=['Physics','Maths','Chemistry','Biology','Computer'])"
      ],
      "execution_count": 24,
      "outputs": []
    },
    {
      "cell_type": "code",
      "metadata": {
        "colab": {
          "base_uri": "https://localhost:8080/"
        },
        "id": "29wXsVgQJzS2",
        "outputId": "bb5c5f6c-719e-4d1b-81c2-b96fb351139e"
      },
      "source": [
        "print(data)"
      ],
      "execution_count": 30,
      "outputs": [
        {
          "output_type": "stream",
          "text": [
            "         Physics  Maths  Chemistry  Biology  Computer\n",
            "Swamini       35     36         37       38        39\n",
            "Kushal        40     41         42       43        44\n",
            "Saurabh       45     46         47       48        49\n",
            "Swapnil       50     51         52       53        54\n",
            "Dinesh        55     56         57       58        59\n"
          ],
          "name": "stdout"
        }
      ]
    }
  ]
}