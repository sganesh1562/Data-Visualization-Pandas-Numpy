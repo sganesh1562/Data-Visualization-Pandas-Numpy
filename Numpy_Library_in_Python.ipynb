{
  "nbformat": 4,
  "nbformat_minor": 0,
  "metadata": {
    "colab": {
      "name": "Numpy_Library_in_Python.ipynb",
      "provenance": []
    },
    "kernelspec": {
      "name": "python3",
      "display_name": "Python 3"
    },
    "language_info": {
      "name": "python"
    }
  },
  "cells": [
    {
      "cell_type": "code",
      "metadata": {
        "id": "w2oLyDTxEs51"
      },
      "source": [
        "import numpy as np #np is an alias of numpy"
      ],
      "execution_count": 1,
      "outputs": []
    },
    {
      "cell_type": "code",
      "metadata": {
        "id": "hHbCkUcjE4hV"
      },
      "source": [
        "my_list=[1,2,3,4,5]"
      ],
      "execution_count": 2,
      "outputs": []
    },
    {
      "cell_type": "code",
      "metadata": {
        "colab": {
          "base_uri": "https://localhost:8080/"
        },
        "id": "1bZv_UumFGyp",
        "outputId": "e29f42d9-28f2-4b30-cfeb-f7048703857f"
      },
      "source": [
        "print(my_list)"
      ],
      "execution_count": 3,
      "outputs": [
        {
          "output_type": "stream",
          "text": [
            "[1, 2, 3, 4, 5]\n"
          ],
          "name": "stdout"
        }
      ]
    },
    {
      "cell_type": "code",
      "metadata": {
        "colab": {
          "base_uri": "https://localhost:8080/"
        },
        "id": "MJPFpGp6FIvD",
        "outputId": "bf1991a4-ef8e-4336-c86d-957fa1ffe008"
      },
      "source": [
        "type(my_list)"
      ],
      "execution_count": 4,
      "outputs": [
        {
          "output_type": "execute_result",
          "data": {
            "text/plain": [
              "list"
            ]
          },
          "metadata": {
            "tags": []
          },
          "execution_count": 4
        }
      ]
    },
    {
      "cell_type": "code",
      "metadata": {
        "id": "HG2I9RNyFKvK"
      },
      "source": [
        "#converting list into array\n",
        "arr=np.array(my_list) # n=1 i.e 1 dimentional array"
      ],
      "execution_count": 5,
      "outputs": []
    },
    {
      "cell_type": "code",
      "metadata": {
        "colab": {
          "base_uri": "https://localhost:8080/"
        },
        "id": "yMPQ3rmSFUu1",
        "outputId": "5e0cae9a-af00-4759-ebc6-05805169f6d1"
      },
      "source": [
        "print(arr)"
      ],
      "execution_count": 6,
      "outputs": [
        {
          "output_type": "stream",
          "text": [
            "[1 2 3 4 5]\n"
          ],
          "name": "stdout"
        }
      ]
    },
    {
      "cell_type": "code",
      "metadata": {
        "colab": {
          "base_uri": "https://localhost:8080/"
        },
        "id": "G9L2S3GQFV39",
        "outputId": "47e0ccc2-42d0-43f8-b830-71bc8e234771"
      },
      "source": [
        "type(arr)"
      ],
      "execution_count": 7,
      "outputs": [
        {
          "output_type": "execute_result",
          "data": {
            "text/plain": [
              "numpy.ndarray"
            ]
          },
          "metadata": {
            "tags": []
          },
          "execution_count": 7
        }
      ]
    },
    {
      "cell_type": "code",
      "metadata": {
        "id": "w1-7gjksFaPZ"
      },
      "source": [
        "#multinested array\n",
        "my_list=[1,2,3,4,5]\n",
        "my_list_2=[2,3,5,6,7]\n",
        "my_list_3=[3,7,1,8,9]\n",
        "\n",
        "arr_new=np.array([my_list,my_list_2,my_list_3]) # n=2 i.e. 2 dimentional array"
      ],
      "execution_count": 9,
      "outputs": []
    },
    {
      "cell_type": "code",
      "metadata": {
        "colab": {
          "base_uri": "https://localhost:8080/"
        },
        "id": "Sy-M4Xj5GRDA",
        "outputId": "0baf0c2e-cc10-40a8-c51d-b215a7ba7924"
      },
      "source": [
        "print(arr_new)"
      ],
      "execution_count": 10,
      "outputs": [
        {
          "output_type": "stream",
          "text": [
            "[[1 2 3 4 5]\n",
            " [2 3 5 6 7]\n",
            " [3 7 1 8 9]]\n"
          ],
          "name": "stdout"
        }
      ]
    },
    {
      "cell_type": "code",
      "metadata": {
        "colab": {
          "base_uri": "https://localhost:8080/"
        },
        "id": "LR7KAvv8GXNg",
        "outputId": "0d769291-daa8-42c8-c23b-cbae32aa0d4b"
      },
      "source": [
        "arr_new.shape # 3 is the number of rows and 5 is the number of columns"
      ],
      "execution_count": 11,
      "outputs": [
        {
          "output_type": "execute_result",
          "data": {
            "text/plain": [
              "(3, 5)"
            ]
          },
          "metadata": {
            "tags": []
          },
          "execution_count": 11
        }
      ]
    },
    {
      "cell_type": "code",
      "metadata": {
        "colab": {
          "base_uri": "https://localhost:8080/"
        },
        "id": "xuFCHLVWG4mB",
        "outputId": "672be290-d86a-4745-bde8-22cf0c0b64e2"
      },
      "source": [
        "arr_new.reshape(5,3)"
      ],
      "execution_count": 12,
      "outputs": [
        {
          "output_type": "execute_result",
          "data": {
            "text/plain": [
              "array([[1, 2, 3],\n",
              "       [4, 5, 2],\n",
              "       [3, 5, 6],\n",
              "       [7, 3, 7],\n",
              "       [1, 8, 9]])"
            ]
          },
          "metadata": {
            "tags": []
          },
          "execution_count": 12
        }
      ]
    },
    {
      "cell_type": "code",
      "metadata": {
        "colab": {
          "base_uri": "https://localhost:8080/",
          "height": 164
        },
        "id": "jFNAd5X5HXab",
        "outputId": "5186c141-e18a-46d5-9978-49e8c2df7da2"
      },
      "source": [
        "arr_new.reshape(5,4)"
      ],
      "execution_count": 13,
      "outputs": [
        {
          "output_type": "error",
          "ename": "ValueError",
          "evalue": "ignored",
          "traceback": [
            "\u001b[0;31m---------------------------------------------------------------------------\u001b[0m",
            "\u001b[0;31mValueError\u001b[0m                                Traceback (most recent call last)",
            "\u001b[0;32m<ipython-input-13-761c59ee5d99>\u001b[0m in \u001b[0;36m<module>\u001b[0;34m()\u001b[0m\n\u001b[0;32m----> 1\u001b[0;31m \u001b[0marr_new\u001b[0m\u001b[0;34m.\u001b[0m\u001b[0mreshape\u001b[0m\u001b[0;34m(\u001b[0m\u001b[0;36m5\u001b[0m\u001b[0;34m,\u001b[0m\u001b[0;36m4\u001b[0m\u001b[0;34m)\u001b[0m\u001b[0;34m\u001b[0m\u001b[0;34m\u001b[0m\u001b[0m\n\u001b[0m",
            "\u001b[0;31mValueError\u001b[0m: cannot reshape array of size 15 into shape (5,4)"
          ]
        }
      ]
    },
    {
      "cell_type": "code",
      "metadata": {
        "id": "2kvDEQEwHszV"
      },
      "source": [
        "#indexing and slicing in Numpy "
      ],
      "execution_count": 14,
      "outputs": []
    },
    {
      "cell_type": "code",
      "metadata": {
        "colab": {
          "base_uri": "https://localhost:8080/"
        },
        "id": "GxQu4jImIKo2",
        "outputId": "c5a970de-be54-4620-a4c3-f04f1813534c"
      },
      "source": [
        "print(arr)"
      ],
      "execution_count": 15,
      "outputs": [
        {
          "output_type": "stream",
          "text": [
            "[1 2 3 4 5]\n"
          ],
          "name": "stdout"
        }
      ]
    },
    {
      "cell_type": "code",
      "metadata": {
        "colab": {
          "base_uri": "https://localhost:8080/"
        },
        "id": "nRwHXIs5IQSZ",
        "outputId": "1cbf7680-b7f9-4bcd-bc32-62002de082c7"
      },
      "source": [
        "arr[3]"
      ],
      "execution_count": 16,
      "outputs": [
        {
          "output_type": "execute_result",
          "data": {
            "text/plain": [
              "4"
            ]
          },
          "metadata": {
            "tags": []
          },
          "execution_count": 16
        }
      ]
    },
    {
      "cell_type": "code",
      "metadata": {
        "colab": {
          "base_uri": "https://localhost:8080/"
        },
        "id": "U4Sp09QyIUh2",
        "outputId": "4407d9bc-96f6-4751-b727-96b7ae6017da"
      },
      "source": [
        "arr[1:4]"
      ],
      "execution_count": 17,
      "outputs": [
        {
          "output_type": "execute_result",
          "data": {
            "text/plain": [
              "array([2, 3, 4])"
            ]
          },
          "metadata": {
            "tags": []
          },
          "execution_count": 17
        }
      ]
    },
    {
      "cell_type": "code",
      "metadata": {
        "colab": {
          "base_uri": "https://localhost:8080/"
        },
        "id": "ZQtCRcoDIXOZ",
        "outputId": "bb0ab92f-16a9-4c6e-bfc6-53f6cc96357b"
      },
      "source": [
        "arr[:3]"
      ],
      "execution_count": 18,
      "outputs": [
        {
          "output_type": "execute_result",
          "data": {
            "text/plain": [
              "array([1, 2, 3])"
            ]
          },
          "metadata": {
            "tags": []
          },
          "execution_count": 18
        }
      ]
    },
    {
      "cell_type": "code",
      "metadata": {
        "colab": {
          "base_uri": "https://localhost:8080/"
        },
        "id": "DlqT-ZgvIZ8x",
        "outputId": "91dd8d2c-f00e-4695-9036-1304354608f7"
      },
      "source": [
        "arr[2:]"
      ],
      "execution_count": 19,
      "outputs": [
        {
          "output_type": "execute_result",
          "data": {
            "text/plain": [
              "array([3, 4, 5])"
            ]
          },
          "metadata": {
            "tags": []
          },
          "execution_count": 19
        }
      ]
    },
    {
      "cell_type": "code",
      "metadata": {
        "colab": {
          "base_uri": "https://localhost:8080/"
        },
        "id": "3vcwm2nFIdPK",
        "outputId": "eacc427e-8306-4b1d-d80b-ae40cae164b1"
      },
      "source": [
        "print(arr_new)"
      ],
      "execution_count": 20,
      "outputs": [
        {
          "output_type": "stream",
          "text": [
            "[[1 2 3 4 5]\n",
            " [2 3 5 6 7]\n",
            " [3 7 1 8 9]]\n"
          ],
          "name": "stdout"
        }
      ]
    },
    {
      "cell_type": "code",
      "metadata": {
        "colab": {
          "base_uri": "https://localhost:8080/"
        },
        "id": "A83uVGoBLA1N",
        "outputId": "6f2633b4-11f1-4c22-b4cc-07fb54658083"
      },
      "source": [
        "arr_new[0:2,0:2]"
      ],
      "execution_count": 23,
      "outputs": [
        {
          "output_type": "execute_result",
          "data": {
            "text/plain": [
              "array([[1, 2],\n",
              "       [2, 3]])"
            ]
          },
          "metadata": {
            "tags": []
          },
          "execution_count": 23
        }
      ]
    },
    {
      "cell_type": "code",
      "metadata": {
        "colab": {
          "base_uri": "https://localhost:8080/"
        },
        "id": "Bch1BtKXLGqr",
        "outputId": "425454be-12f0-4482-b798-bf321e5c5509"
      },
      "source": [
        "arr_new[1:,1:]"
      ],
      "execution_count": 24,
      "outputs": [
        {
          "output_type": "execute_result",
          "data": {
            "text/plain": [
              "array([[3, 5, 6, 7],\n",
              "       [7, 1, 8, 9]])"
            ]
          },
          "metadata": {
            "tags": []
          },
          "execution_count": 24
        }
      ]
    },
    {
      "cell_type": "code",
      "metadata": {
        "colab": {
          "base_uri": "https://localhost:8080/"
        },
        "id": "fnUDVveQJAeC",
        "outputId": "5d2e4d4b-2cda-4944-de80-a3f8a80f5bba"
      },
      "source": [
        "arr_new[1:,3:] "
      ],
      "execution_count": 21,
      "outputs": [
        {
          "output_type": "execute_result",
          "data": {
            "text/plain": [
              "array([[6, 7],\n",
              "       [8, 9]])"
            ]
          },
          "metadata": {
            "tags": []
          },
          "execution_count": 21
        }
      ]
    },
    {
      "cell_type": "code",
      "metadata": {
        "colab": {
          "base_uri": "https://localhost:8080/"
        },
        "id": "FkgtdOaEKkz1",
        "outputId": "d46b5599-8a15-4e06-ef30-a96e53911ed7"
      },
      "source": [
        "arr_new[0:,1:3] "
      ],
      "execution_count": 22,
      "outputs": [
        {
          "output_type": "execute_result",
          "data": {
            "text/plain": [
              "array([[2, 3],\n",
              "       [3, 5],\n",
              "       [7, 1]])"
            ]
          },
          "metadata": {
            "tags": []
          },
          "execution_count": 22
        }
      ]
    },
    {
      "cell_type": "code",
      "metadata": {
        "id": "44vryGFsKyCp"
      },
      "source": [
        "#generating random numbers through NUMPY"
      ],
      "execution_count": 25,
      "outputs": []
    },
    {
      "cell_type": "code",
      "metadata": {
        "id": "Y5l6HIF5L4WR"
      },
      "source": [
        "arr=np.arange(0,10,step=1) # 10 is exclusive and we get elements from 0--9 which are equally spaced "
      ],
      "execution_count": 26,
      "outputs": []
    },
    {
      "cell_type": "code",
      "metadata": {
        "colab": {
          "base_uri": "https://localhost:8080/"
        },
        "id": "A-GXMNr4NQB1",
        "outputId": "bfe9f008-d39c-463e-b434-f382183013f6"
      },
      "source": [
        "print(arr)"
      ],
      "execution_count": 27,
      "outputs": [
        {
          "output_type": "stream",
          "text": [
            "[0 1 2 3 4 5 6 7 8 9]\n"
          ],
          "name": "stdout"
        }
      ]
    },
    {
      "cell_type": "code",
      "metadata": {
        "id": "YqEIKAg9NRH1"
      },
      "source": [
        "arr=np.arange(1,15,step=2)"
      ],
      "execution_count": 28,
      "outputs": []
    },
    {
      "cell_type": "code",
      "metadata": {
        "colab": {
          "base_uri": "https://localhost:8080/"
        },
        "id": "eBryths8Nbr9",
        "outputId": "c790c15e-e9e6-4d65-d34a-01ac30db6e6a"
      },
      "source": [
        "print(arr)"
      ],
      "execution_count": 29,
      "outputs": [
        {
          "output_type": "stream",
          "text": [
            "[ 1  3  5  7  9 11 13]\n"
          ],
          "name": "stdout"
        }
      ]
    },
    {
      "cell_type": "code",
      "metadata": {
        "colab": {
          "base_uri": "https://localhost:8080/"
        },
        "id": "5UT_UV-CNjrx",
        "outputId": "99103bd4-0bb0-44a3-ec4f-5dc30717cffd"
      },
      "source": [
        "np.linspace(1,10,50) # 1-->9 we get 50 elements which are equally spaced"
      ],
      "execution_count": 33,
      "outputs": [
        {
          "output_type": "execute_result",
          "data": {
            "text/plain": [
              "array([ 1.        ,  1.18367347,  1.36734694,  1.55102041,  1.73469388,\n",
              "        1.91836735,  2.10204082,  2.28571429,  2.46938776,  2.65306122,\n",
              "        2.83673469,  3.02040816,  3.20408163,  3.3877551 ,  3.57142857,\n",
              "        3.75510204,  3.93877551,  4.12244898,  4.30612245,  4.48979592,\n",
              "        4.67346939,  4.85714286,  5.04081633,  5.2244898 ,  5.40816327,\n",
              "        5.59183673,  5.7755102 ,  5.95918367,  6.14285714,  6.32653061,\n",
              "        6.51020408,  6.69387755,  6.87755102,  7.06122449,  7.24489796,\n",
              "        7.42857143,  7.6122449 ,  7.79591837,  7.97959184,  8.16326531,\n",
              "        8.34693878,  8.53061224,  8.71428571,  8.89795918,  9.08163265,\n",
              "        9.26530612,  9.44897959,  9.63265306,  9.81632653, 10.        ])"
            ]
          },
          "metadata": {
            "tags": []
          },
          "execution_count": 33
        }
      ]
    },
    {
      "cell_type": "code",
      "metadata": {
        "colab": {
          "base_uri": "https://localhost:8080/"
        },
        "id": "BpFz42IBOAAl",
        "outputId": "c7a8ca22-f61d-4105-c4d6-d8814d8e0058"
      },
      "source": [
        "np.random.rand(3,4) #3 stands for 3 rows and 4 stands for 4 columns \n",
        "#incase of random.rand the range is 0-->1 by default \n",
        "#the random elements  that we get are floating point numbers"
      ],
      "execution_count": 40,
      "outputs": [
        {
          "output_type": "execute_result",
          "data": {
            "text/plain": [
              "array([[0.89110082, 0.05234895, 0.09510281, 0.59709436],\n",
              "       [0.52913378, 0.32735964, 0.84666704, 0.00829116],\n",
              "       [0.84178897, 0.63515251, 0.41023308, 0.97752251]])"
            ]
          },
          "metadata": {
            "tags": []
          },
          "execution_count": 40
        }
      ]
    },
    {
      "cell_type": "code",
      "metadata": {
        "colab": {
          "base_uri": "https://localhost:8080/"
        },
        "id": "479z6g_KPMKq",
        "outputId": "83023c63-cdf4-4d9f-dc6d-e356603b48a6"
      },
      "source": [
        "np.random.randint(5,20,5) # 5-->20 is the range specified \n",
        "#and the number of elements in this range is 5\n",
        "#the random elements  that we get are integer numbers"
      ],
      "execution_count": 47,
      "outputs": [
        {
          "output_type": "execute_result",
          "data": {
            "text/plain": [
              "array([13, 12, 17, 17, 10])"
            ]
          },
          "metadata": {
            "tags": []
          },
          "execution_count": 47
        }
      ]
    }
  ]
}